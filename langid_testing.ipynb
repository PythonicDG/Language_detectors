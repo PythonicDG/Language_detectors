{
  "nbformat": 4,
  "nbformat_minor": 0,
  "metadata": {
    "colab": {
      "provenance": [],
      "authorship_tag": "ABX9TyNj8WozycBSDHz8XC1cUfTf",
      "include_colab_link": true
    },
    "kernelspec": {
      "name": "python3",
      "display_name": "Python 3"
    },
    "language_info": {
      "name": "python"
    }
  },
  "cells": [
    {
      "cell_type": "markdown",
      "metadata": {
        "id": "view-in-github",
        "colab_type": "text"
      },
      "source": [
        "<a href=\"https://colab.research.google.com/github/PythonicDG/Language_detectors/blob/main/langid_testing.ipynb\" target=\"_parent\"><img src=\"https://colab.research.google.com/assets/colab-badge.svg\" alt=\"Open In Colab\"/></a>"
      ]
    },
    {
      "cell_type": "code",
      "source": [
        "!pip install langid"
      ],
      "metadata": {
        "colab": {
          "base_uri": "https://localhost:8080/"
        },
        "id": "ydd3_GlcAFQA",
        "outputId": "e73c9112-1eae-46ca-cbbe-86868aeffa16"
      },
      "execution_count": 2,
      "outputs": [
        {
          "output_type": "stream",
          "name": "stdout",
          "text": [
            "Collecting langid\n",
            "  Downloading langid-1.1.6.tar.gz (1.9 MB)\n",
            "\u001b[2K     \u001b[90m━━━━━━━━━━━━━━━━━━━━━━━━━━━━━━━━━━━━━━━━\u001b[0m \u001b[32m1.9/1.9 MB\u001b[0m \u001b[31m19.7 MB/s\u001b[0m eta \u001b[36m0:00:00\u001b[0m\n",
            "\u001b[?25h  Preparing metadata (setup.py) ... \u001b[?25l\u001b[?25hdone\n",
            "Requirement already satisfied: numpy in /usr/local/lib/python3.11/dist-packages (from langid) (1.26.4)\n",
            "Building wheels for collected packages: langid\n",
            "  Building wheel for langid (setup.py) ... \u001b[?25l\u001b[?25hdone\n",
            "  Created wheel for langid: filename=langid-1.1.6-py3-none-any.whl size=1941171 sha256=19affbf00e2453a11939893354efbf49ab1752b6c142a12fba6341ba1b3a289f\n",
            "  Stored in directory: /root/.cache/pip/wheels/32/6a/b6/b7eb43a6ad55b139c15c5daa29f3707659cfa6944d3c696f5b\n",
            "Successfully built langid\n",
            "Installing collected packages: langid\n",
            "Successfully installed langid-1.1.6\n"
          ]
        }
      ]
    },
    {
      "cell_type": "code",
      "execution_count": 5,
      "metadata": {
        "id": "Xph0trLV_7jw"
      },
      "outputs": [],
      "source": [
        "import langid as ld"
      ]
    },
    {
      "cell_type": "code",
      "source": [
        "texts = [\n",
        "    \"Hello\",  # English\n",
        "    \"नमस्ते\",  # Hindi\n",
        "    \"नमस्कार\",  # Marathi\n",
        "    \"Hola\",  # Spanish\n",
        "    \"Bonjour\",  # French\n",
        "    \"你好\",  # Chinese (Simplified)\n",
        "    \"Привет\",  # Russian\n",
        "    \"こんにちは\",  # Japanese\n",
        "    \"안녕하세요\"  # Korean\n",
        "]"
      ],
      "metadata": {
        "id": "UnWtJGMpAEYK"
      },
      "execution_count": 6,
      "outputs": []
    },
    {
      "cell_type": "code",
      "source": [
        "for text in texts:\n",
        "  detected_lang = ld.classify(text)[0]\n",
        "  print(f\"Text: '{text}' -> Detected Language: {detected_lang}\")"
      ],
      "metadata": {
        "colab": {
          "base_uri": "https://localhost:8080/"
        },
        "id": "V1jN1z4YAOzi",
        "outputId": "d89c6929-4f41-4d72-b514-90b38192e3e3"
      },
      "execution_count": 9,
      "outputs": [
        {
          "output_type": "stream",
          "name": "stdout",
          "text": [
            "Text: 'Hello' -> Detected Language: en\n",
            "Text: 'नमस्ते' -> Detected Language: ne\n",
            "Text: 'नमस्कार' -> Detected Language: ne\n",
            "Text: 'Hola' -> Detected Language: en\n",
            "Text: 'Bonjour' -> Detected Language: en\n",
            "Text: '你好' -> Detected Language: zh\n",
            "Text: 'Привет' -> Detected Language: ru\n",
            "Text: 'こんにちは' -> Detected Language: ja\n",
            "Text: '안녕하세요' -> Detected Language: ko\n"
          ]
        }
      ]
    },
    {
      "cell_type": "code",
      "source": [],
      "metadata": {
        "id": "VKYdBISnAWkg"
      },
      "execution_count": null,
      "outputs": []
    }
  ]
}