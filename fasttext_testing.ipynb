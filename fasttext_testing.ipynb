{
  "nbformat": 4,
  "nbformat_minor": 0,
  "metadata": {
    "colab": {
      "provenance": [],
      "authorship_tag": "ABX9TyMiSJQgl61RoPRVHr3woX3g",
      "include_colab_link": true
    },
    "kernelspec": {
      "name": "python3",
      "display_name": "Python 3"
    },
    "language_info": {
      "name": "python"
    }
  },
  "cells": [
    {
      "cell_type": "markdown",
      "metadata": {
        "id": "view-in-github",
        "colab_type": "text"
      },
      "source": [
        "<a href=\"https://colab.research.google.com/github/PythonicDG/Language_detectors/blob/main/fasttext_testing.ipynb\" target=\"_parent\"><img src=\"https://colab.research.google.com/assets/colab-badge.svg\" alt=\"Open In Colab\"/></a>"
      ]
    },
    {
      "cell_type": "code",
      "execution_count": 10,
      "metadata": {
        "colab": {
          "base_uri": "https://localhost:8080/"
        },
        "id": "too9slcbAz8x",
        "outputId": "33614b47-206d-4713-c85a-0350453a06e0"
      },
      "outputs": [
        {
          "output_type": "stream",
          "name": "stdout",
          "text": [
            "Collecting pycld2\n",
            "  Downloading pycld2-0.41.tar.gz (41.4 MB)\n",
            "\u001b[2K     \u001b[90m━━━━━━━━━━━━━━━━━━━━━━━━━━━━━━━━━━━━━━━━\u001b[0m \u001b[32m41.4/41.4 MB\u001b[0m \u001b[31m22.7 MB/s\u001b[0m eta \u001b[36m0:00:00\u001b[0m\n",
            "\u001b[?25h  Preparing metadata (setup.py) ... \u001b[?25l\u001b[?25hdone\n",
            "Building wheels for collected packages: pycld2\n",
            "  Building wheel for pycld2 (setup.py) ... \u001b[?25l\u001b[?25hdone\n",
            "  Created wheel for pycld2: filename=pycld2-0.41-cp311-cp311-linux_x86_64.whl size=9916382 sha256=9995d43e614c48764bfbc33a98c239fb290fafc7e07581ff7072bf4b364d5328\n",
            "  Stored in directory: /root/.cache/pip/wheels/9a/71/a1/89cdc6ae2ecd7bb3bf67baee27a134f761b3e2922ea7fdfbcb\n",
            "Successfully built pycld2\n",
            "Installing collected packages: pycld2\n",
            "Successfully installed pycld2-0.41\n"
          ]
        }
      ],
      "source": [
        "!pip install pycld2"
      ]
    },
    {
      "cell_type": "code",
      "source": [
        "import pycld2 as cld2"
      ],
      "metadata": {
        "id": "PX454ieHCg81"
      },
      "execution_count": 11,
      "outputs": []
    },
    {
      "cell_type": "code",
      "source": [
        "texts = [\n",
        "    \"Hello\",  # English\n",
        "    \"नमस्ते\",  # Hindi\n",
        "    \"नमस्कार\",  # Marathi\n",
        "    \"Hola\",  # Spanish\n",
        "    \"Bonjour\",  # French\n",
        "    \"你好\",  # Chinese (Simplified)\n",
        "    \"Привет\",  # Russian\n",
        "    \"こんにちは\",  # Japanese\n",
        "    \"안녕하세요\"  # Korean\n",
        "]"
      ],
      "metadata": {
        "id": "21oUMz1VCx3o"
      },
      "execution_count": 12,
      "outputs": []
    },
    {
      "cell_type": "code",
      "source": [
        "for text in texts:\n",
        "    isReliable, textBytesFound, details = cld2.detect(text)\n",
        "    print(f\"Text: {text} - Detected language: {details[0][0]}\")"
      ],
      "metadata": {
        "colab": {
          "base_uri": "https://localhost:8080/"
        },
        "id": "YlnX2RkiDIZJ",
        "outputId": "01399ec4-5255-4fa3-e743-3b4cb85401a1"
      },
      "execution_count": 14,
      "outputs": [
        {
          "output_type": "stream",
          "name": "stdout",
          "text": [
            "Text: Hello - Detected language: Unknown\n",
            "Text: नमस्ते - Detected language: Unknown\n",
            "Text: नमस्कार - Detected language: HINDI\n",
            "Text: Hola - Detected language: Unknown\n",
            "Text: Bonjour - Detected language: Unknown\n",
            "Text: 你好 - Detected language: Unknown\n",
            "Text: Привет - Detected language: Unknown\n",
            "Text: こんにちは - Detected language: Japanese\n",
            "Text: 안녕하세요 - Detected language: Korean\n"
          ]
        }
      ]
    },
    {
      "cell_type": "code",
      "source": [],
      "metadata": {
        "id": "ijNKZPEWDczN"
      },
      "execution_count": null,
      "outputs": []
    }
  ]
}